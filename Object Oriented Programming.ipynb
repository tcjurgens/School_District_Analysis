{
 "cells": [
  {
   "cell_type": "code",
   "execution_count": 1,
   "id": "908d0b26",
   "metadata": {},
   "outputs": [],
   "source": [
    "# In object-oriented programming, the class is like the mold, and the object is like a particular toy car.\n"
   ]
  },
  {
   "cell_type": "code",
   "execution_count": 2,
   "id": "b1081eaa",
   "metadata": {},
   "outputs": [],
   "source": [
    "class Cat:\n",
    "    def __init__(self,name):\n",
    "        self.name = name\n",
    "# keyword 'class' used to create a class\n",
    "# __init__ METHOD is a special METHOD called a \"class constructor\" \n",
    "        # Python will call this every time a new instance of the class is created\n",
    "# __init__ takes two arguments: 'self' and 'name' \n",
    "# the 'self' argument refers to a/the specific Cat object that is created when this method is called\n",
    "# the 'name' argument will be specified every time a specific Cat obj is created"
   ]
  },
  {
   "cell_type": "code",
   "execution_count": 3,
   "id": "16888a77",
   "metadata": {},
   "outputs": [
    {
     "name": "stdout",
     "output_type": "stream",
     "text": [
      "Felix\n"
     ]
    }
   ],
   "source": [
    "first_cat = Cat('Felix')\n",
    "print(first_cat.name)"
   ]
  },
  {
   "cell_type": "code",
   "execution_count": 4,
   "id": "d5d4f190",
   "metadata": {},
   "outputs": [
    {
     "name": "stdout",
     "output_type": "stream",
     "text": [
      "Tony\n"
     ]
    }
   ],
   "source": [
    "second_cat = Cat('Tony')\n",
    "print(second_cat.name)"
   ]
  },
  {
   "cell_type": "code",
   "execution_count": 5,
   "id": "adf33d72",
   "metadata": {},
   "outputs": [],
   "source": [
    "# in OOP, an object can have attributes (like 'name' above) \n",
    "# it can also perform actions thru functions !"
   ]
  },
  {
   "cell_type": "code",
   "execution_count": 6,
   "id": "0141c824",
   "metadata": {},
   "outputs": [],
   "source": [
    "class Dog:\n",
    "    def __init__(self, name, color, sound):\n",
    "        self.name = name\n",
    "        self.color = color\n",
    "        self.sound = sound\n",
    "    def bark(self):\n",
    "        return self.sound + ' ' + self.sound"
   ]
  },
  {
   "cell_type": "raw",
   "id": "f68235d9",
   "metadata": {},
   "source": [
    "first_dog = Dog('fido','brown','woof')\n",
    "print(first_dog.name)\n",
    "print(first_dog.color)\n",
    "first_dog.bark()   "
   ]
  },
  {
   "cell_type": "code",
   "execution_count": 7,
   "id": "0a113a1d",
   "metadata": {},
   "outputs": [],
   "source": [
    "# above,, The first_dog's bark method returns the first_dog's sound property twice\n",
    "        # because the sound property is woof! for this object, calling the bark method returns woof! woof!"
   ]
  },
  {
   "cell_type": "code",
   "execution_count": 8,
   "id": "fc9dcf7c",
   "metadata": {},
   "outputs": [
    {
     "name": "stdout",
     "output_type": "stream",
     "text": [
      "lucy\n",
      "blonde\n"
     ]
    },
    {
     "data": {
      "text/plain": [
       "'arf! arf!'"
      ]
     },
     "execution_count": 8,
     "metadata": {},
     "output_type": "execute_result"
    }
   ],
   "source": [
    "second_dog = Dog('lucy','blonde','arf!')\n",
    "print(second_dog.name)\n",
    "print(second_dog.color)\n",
    "second_dog.bark()"
   ]
  },
  {
   "cell_type": "code",
   "execution_count": 10,
   "id": "32d2448e",
   "metadata": {},
   "outputs": [],
   "source": [
    "# Object-Oriented Programming uses classes and objects to organize information: \n",
    "# an object can hold attributes, and it can also run functions\n",
    "\n",
    "# When a function is associated with an object, it is called a method. \n",
    "# If an object's attributes are like its adjectives and nouns (\"color\" and \"name\" for example),\n",
    "# then its methods are like its verbs (\"bark\")"
   ]
  },
  {
   "cell_type": "code",
   "execution_count": null,
   "id": "3548d4ce",
   "metadata": {},
   "outputs": [],
   "source": []
  }
 ],
 "metadata": {
  "kernelspec": {
   "display_name": "PythonData",
   "language": "python",
   "name": "pythondata"
  },
  "language_info": {
   "codemirror_mode": {
    "name": "ipython",
    "version": 3
   },
   "file_extension": ".py",
   "mimetype": "text/x-python",
   "name": "python",
   "nbconvert_exporter": "python",
   "pygments_lexer": "ipython3",
   "version": "3.7.10"
  }
 },
 "nbformat": 4,
 "nbformat_minor": 5
}
